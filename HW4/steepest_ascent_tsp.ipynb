{
 "cells": [
  {
   "cell_type": "code",
   "execution_count": 5,
   "metadata": {},
   "outputs": [],
   "source": [
    "#steepest_ascent(tsp)\n",
    "from problem import Problem, Tsp\n",
    "\n",
    "def main():\n",
    "    p = Tsp()\n",
    "    p.createProblem()   \n",
    "    steepestAscent(p)\n",
    "    p.describeProblem()\n",
    "    displaySetting()\n",
    "    p.displayResult()\n",
    "    \n",
    "def steepestAscent(p):\n",
    "    current = p.randomInit()   # 'current' is a list of city ids\n",
    "    valueC = p.evaluate(current)\n",
    "    while True:\n",
    "        neighbors = p.mutants(current)\n",
    "        (successor, valueS) = bestOf(neighbors, p)\n",
    "        if valueS >= valueC:\n",
    "            break\n",
    "        else:\n",
    "            current = successor\n",
    "            valueC = valueS\n",
    "    p.storeResult(current, valueC)\n",
    "\n",
    "def bestOf(neighbors, p):\n",
    "    evals = []\n",
    "    for neighbor in neighbors:\n",
    "        evals.append(p.evaluate(neighbor))\n",
    "    bestValue = min(evals)\n",
    "    best = neighbors[evals.index(bestValue)]\n",
    "\n",
    "    return best, bestValue\n",
    "\n",
    "def displaySetting():\n",
    "    print()\n",
    "    print(\"Search algorithm: Steepest-Ascent Hill Climbing\")"
   ]
  },
  {
   "cell_type": "code",
   "execution_count": 6,
   "metadata": {},
   "outputs": [
    {
     "name": "stdout",
     "output_type": "stream",
     "text": [
      "\n",
      "Number of cities: 30\n",
      "City locations:\n",
      "     (8, 31)    (54, 97)    (50, 50)    (65, 16)    (70, 47)\n",
      "   (25, 100)    (55, 74)    (77, 87)     (6, 46)    (70, 78)\n",
      "    (13, 38)   (100, 32)    (26, 35)    (55, 16)    (26, 77)\n",
      "    (17, 67)    (40, 36)    (38, 27)     (33, 2)     (48, 9)\n",
      "    (62, 20)    (17, 92)     (30, 2)    (80, 75)    (32, 36)\n",
      "    (43, 79)    (57, 49)    (18, 24)    (96, 76)    (81, 39)\n",
      "\n",
      "Search algorithm: Steepest-Ascent Hill Climbing\n",
      "\n",
      "Best order of visits:\n",
      "   11   29    2    4    7   28   23    9   26    1\n",
      "   25    6   14    5   21    8   10   18   22   19\n",
      "    3   20   13   17   16   15   24    0   27   12\n",
      "\n",
      "Minimum tour cost: 646\n",
      "\n",
      "Total number of evaluations: 590\n"
     ]
    }
   ],
   "source": [
    "main() # tsp30.txt"
   ]
  },
  {
   "cell_type": "code",
   "execution_count": 7,
   "metadata": {},
   "outputs": [
    {
     "name": "stdout",
     "output_type": "stream",
     "text": [
      "\n",
      "Number of cities: 50\n",
      "City locations:\n",
      "    (96, 22)    (56, 12)    (19, 24)    (83, 58)     (62, 5)\n",
      "    (79, 31)      (1, 0)    (29, 71)    (17, 89)    (43, 66)\n",
      "    (82, 74)    (52, 35)    (84, 92)    (93, 45)    (41, 24)\n",
      "    (36, 83)    (82, 35)    (89, 71)    (93, 89)    (67, 10)\n",
      "    (71, 82)    (68, 50)    (84, 81)    (74, 94)    (53, 13)\n",
      "    (81, 31)    (17, 92)    (99, 82)    (25, 63)      (0, 2)\n",
      "    (21, 83)    (70, 64)     (79, 6)    (31, 53)    (90, 50)\n",
      "    (48, 14)    (41, 26)    (80, 56)    (49, 51)    (19, 38)\n",
      "      (2, 0)    (29, 63)    (18, 59)    (10, 44)     (49, 7)\n",
      "     (37, 9)    (19, 14)    (90, 85)    (100, 5)    (34, 55)\n",
      "\n",
      "Search algorithm: Steepest-Ascent Hill Climbing\n",
      "\n",
      "Best order of visits:\n",
      "   43   39    2   45   35    4   32   19   44   24\n",
      "   46    1   11   36   14   21   16    0   34   13\n",
      "   37    3   31   17   47   27   10   12   23   18\n",
      "   22   20    9    7   15    8   26   30   41   42\n",
      "   28   33   49    5   48   25   38    6   29   40\n",
      "\n",
      "Minimum tour cost: 905\n",
      "\n",
      "Total number of evaluations: 1,837\n"
     ]
    }
   ],
   "source": [
    "main() # tsp50.txt"
   ]
  },
  {
   "cell_type": "code",
   "execution_count": 8,
   "metadata": {},
   "outputs": [
    {
     "name": "stdout",
     "output_type": "stream",
     "text": [
      "\n",
      "Number of cities: 100\n",
      "City locations:\n",
      "    (94, 71)    (75, 60)    (30, 87)    (98, 37)    (66, 39)\n",
      "     (80, 4)    (28, 75)    (45, 63)     (28, 1)    (21, 25)\n",
      "    (66, 95)    (63, 60)    (66, 82)    (50, 97)    (95, 29)\n",
      "    (23, 97)    (32, 35)     (3, 26)    (85, 67)    (20, 36)\n",
      "    (29, 61)    (86, 31)     (13, 9)     (39, 3)    (77, 41)\n",
      "    (54, 76)    (80, 46)    (20, 63)    (39, 89)    (51, 49)\n",
      "    (83, 38)    (34, 72)     (6, 66)    (52, 41)    (99, 64)\n",
      "     (3, 64)     (6, 72)     (70, 9)    (25, 57)    (32, 33)\n",
      "    (48, 68)    (73, 99)    (32, 75)     (29, 5)    (74, 30)\n",
      "    (32, 80)     (96, 7)     (37, 7)     (7, 70)     (0, 94)\n",
      "    (33, 10)    (84, 61)    (18, 29)    (71, 81)    (82, 76)\n",
      "    (68, 74)    (56, 53)    (80, 41)    (21, 52)    (12, 64)\n",
      "    (47, 46)    (55, 20)    (40, 90)    (81, 75)    (83, 23)\n",
      "    (35, 10)    (18, 84)    (46, 82)    (47, 74)    (25, 28)\n",
      "    (69, 76)    (77, 28)     (57, 0)    (24, 83)     (5, 65)\n",
      "    (83, 29)    (94, 93)     (0, 76)    (70, 32)    (32, 11)\n",
      "    (27, 25)    (98, 22)    (67, 39)    (80, 37)    (77, 10)\n",
      "    (61, 23)    (62, 71)    (45, 32)     (3, 56)    (58, 96)\n",
      "    (14, 70)     (0, 35)    (95, 68)    (79, 47)    (30, 79)\n",
      "     (41, 8)    (64, 33)    (28, 91)    (18, 21)    (42, 57)\n",
      "\n",
      "Search algorithm: Steepest-Ascent Hill Climbing\n",
      "\n",
      "Best order of visits:\n",
      "    0   92   34    3   30   24   78   82   33   56\n",
      "   96    4   21   75   83   93   26   57    1   70\n",
      "   55   11   18   51   63   53   54   76   41   89\n",
      "   10   25   86   12   13   97    2   67   62   28\n",
      "   15   73   20   31    6   42   94   45   68   38\n",
      "   58   19   17   91   52   39   16   80    9   69\n",
      "   98   22   79    8   43   47   95   50   65   23\n",
      "   72   71   44   64   46   81   14   84    5   37\n",
      "   85   61   87   29   60   99   40    7   90   27\n",
      "   59   32   35   48   74   88   36   77   66   49\n",
      "\n",
      "Minimum tour cost: 1,207\n",
      "\n",
      "Total number of evaluations: 8,788\n"
     ]
    }
   ],
   "source": [
    "main() # tsp100.txt"
   ]
  }
 ],
 "metadata": {
  "kernelspec": {
   "display_name": "Python 3",
   "language": "python",
   "name": "python3"
  },
  "language_info": {
   "codemirror_mode": {
    "name": "ipython",
    "version": 3
   },
   "file_extension": ".py",
   "mimetype": "text/x-python",
   "name": "python",
   "nbconvert_exporter": "python",
   "pygments_lexer": "ipython3",
   "version": "3.10.10"
  }
 },
 "nbformat": 4,
 "nbformat_minor": 2
}
