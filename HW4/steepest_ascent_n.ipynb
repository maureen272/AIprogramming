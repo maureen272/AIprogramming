{
 "cells": [
  {
   "cell_type": "code",
   "execution_count": 5,
   "metadata": {},
   "outputs": [],
   "source": [
    "#steepest_ascent(Numeric)\n",
    "\n",
    "from problem import Problem, Numeric\n",
    "\n",
    "LIMIT_STUCK = 100 # Max number of evaluations enduring no improvement\n",
    "\n",
    "def main():\n",
    "    p = Numeric()\n",
    "    p.setVariables()\n",
    "    steepestAscent(p)\n",
    "    p.describeProblem()\n",
    "    displaySetting(p)\n",
    "    p.displayResult()\n",
    "\n",
    "def steepestAscent(p):\n",
    "    current = p.randomInit() # 'current' is a list of values\n",
    "    valueC = p.evaluate(current)\n",
    "    while True:\n",
    "        neighbors = p.mutants(current)\n",
    "        successor, valueS = bestOf(neighbors, p)\n",
    "        if valueS >= valueC:\n",
    "            break\n",
    "        else:\n",
    "            current = successor\n",
    "            valueC = valueS\n",
    "    p.storeResult(current, valueC)\n",
    "\n",
    "def bestOf(neighbors, p): \n",
    "    evals = []\n",
    "    for neighbor in neighbors:\n",
    "        evals.append(p.evaluate(neighbor))\n",
    "    bestValue = min(evals)\n",
    "    best = neighbors[evals.index(bestValue)]\n",
    "    return best, bestValue\n",
    "\n",
    "def displaySetting(p):\n",
    "    print()\n",
    "    print(\"Search algorithm: Steepest-Ascent Hill Climbing\")\n",
    "    print()\n",
    "    print(\"Mutation step size:\", p.getDelta())\n",
    "    print(\"Max evaluations with no improvement: {0:,} iterations\".format(LIMIT_STUCK))"
   ]
  },
  {
   "cell_type": "code",
   "execution_count": 6,
   "metadata": {},
   "outputs": [
    {
     "name": "stdout",
     "output_type": "stream",
     "text": [
      "\n",
      "Objective function:\n",
      "20 + math.e - 20 * math.exp(-(1/5) * math.sqrt((1/5) * (x1 ** 2 + x2 ** 2 + x3 ** 2 + x4 ** 2 + x5 ** 2))) - math.exp((1/5) * (math.cos(2 * math.pi * x1) + math.cos(2 * math.pi * x2) +math.cos(2 * math.pi * x3) +math.cos(2 * math.pi * x4) +math.cos(2 * math.pi * x5)))\n",
      "Search space:\n",
      " x1: (-30.0, 30.0)\n",
      " x2: (-30.0, 30.0)\n",
      " x3: (-30.0, 30.0)\n",
      " x4: (-30.0, 30.0)\n",
      " x5: (-30.0, 30.0)\n",
      "\n",
      "Search algorithm: Steepest-Ascent Hill Climbing\n",
      "\n",
      "Mutation step size: 0.01\n",
      "Max evaluations with no improvement: 100 iterations\n",
      "\n",
      "Solution found:\n",
      "(-13.001, -18.995, 4.002, 7.0, 23.997)\n",
      "Minimum value: 19.063\n",
      "\n",
      "Total number of evaluations: 791\n"
     ]
    }
   ],
   "source": [
    "main() # Ackley.txt"
   ]
  },
  {
   "cell_type": "code",
   "execution_count": 7,
   "metadata": {},
   "outputs": [
    {
     "name": "stdout",
     "output_type": "stream",
     "text": [
      "\n",
      "Objective function:\n",
      "(x1 - 2) ** 2 +5 * (x2 - 5) ** 2 + 8 * (x3 + 8) ** 2 + 3 * (x4 + 1) ** 2 + 6 * (x5 - 7) ** 2\n",
      "Search space:\n",
      " x1: (-30.0, 30.0)\n",
      " x2: (-30.0, 30.0)\n",
      " x3: (-30.0, 30.0)\n",
      " x4: (-30.0, 30.0)\n",
      " x5: (-30.0, 30.0)\n",
      "\n",
      "Search algorithm: Steepest-Ascent Hill Climbing\n",
      "\n",
      "Mutation step size: 0.01\n",
      "Max evaluations with no improvement: 100 iterations\n",
      "\n",
      "Solution found:\n",
      "(1.996, 5.001, -8.003, -0.996, 7.003)\n",
      "Minimum value: 0.000\n",
      "\n",
      "Total number of evaluations: 68,551\n"
     ]
    }
   ],
   "source": [
    "main() # Convex.txt"
   ]
  },
  {
   "cell_type": "code",
   "execution_count": 8,
   "metadata": {},
   "outputs": [
    {
     "name": "stdout",
     "output_type": "stream",
     "text": [
      "\n",
      "Objective function:\n",
      "1 + (x1 ** 2 + x2 ** 2 + x3 ** 2+ x4 ** 2 + x5 ** 2) / 4000 - math.cos(x1) * math.cos(x2 / math.sqrt(2)) * math.cos(x3 / math.sqrt(3)) * math.cos(x4 / math.sqrt(4)) * math.cos(x5 / math.sqrt(5))\n",
      "Search space:\n",
      " x1: (-30.0, 30.0)\n",
      " x2: (-30.0, 30.0)\n",
      " x3: (-30.0, 30.0)\n",
      " x4: (-30.0, 30.0)\n",
      " x5: (-30.0, 30.0)\n",
      "\n",
      "Search algorithm: Steepest-Ascent Hill Climbing\n",
      "\n",
      "Mutation step size: 0.01\n",
      "Max evaluations with no improvement: 100 iterations\n",
      "\n",
      "Solution found:\n",
      "(3.135, -4.441, -16.292, 29.991, 14.002)\n",
      "Minimum value: 0.591\n",
      "\n",
      "Total number of evaluations: 6,941\n"
     ]
    }
   ],
   "source": [
    "main() # Griewank.txt"
   ]
  }
 ],
 "metadata": {
  "kernelspec": {
   "display_name": "Python 3",
   "language": "python",
   "name": "python3"
  },
  "language_info": {
   "codemirror_mode": {
    "name": "ipython",
    "version": 3
   },
   "file_extension": ".py",
   "mimetype": "text/x-python",
   "name": "python",
   "nbconvert_exporter": "python",
   "pygments_lexer": "ipython3",
   "version": "3.10.10"
  }
 },
 "nbformat": 4,
 "nbformat_minor": 2
}
