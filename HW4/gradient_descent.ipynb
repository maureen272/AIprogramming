{
 "cells": [
  {
   "cell_type": "code",
   "execution_count": 1,
   "metadata": {},
   "outputs": [],
   "source": [
    "from problem import Problem, Numeric\n",
    "\n",
    "def main():\n",
    "    p = Numeric()\n",
    "    p.setVariables()\n",
    "    gradientDescent(p)\n",
    "    p.describeProblem()\n",
    "    displaySetting(p)\n",
    "    p.displayResult()\n",
    "\n",
    "def gradientDescent(p):\n",
    "    current = p.randomInit() \n",
    "    valueC = p.evaluate(current)\n",
    "    while True:\n",
    "        successor = p.takeStep(current)\n",
    "        valueS = p.evaluate(successor)\n",
    "        if valueS >= valueC:\n",
    "            break\n",
    "        else:\n",
    "            current = successor\n",
    "            valueC = valueS\n",
    "\n",
    "    p.storeResult(current, valueC)\n",
    "\n",
    "def displaySetting(p):\n",
    "    print()\n",
    "    print(\"Search algorithm: Gradient descent\")\n",
    "    print()\n",
    "    print(\"Alpha rate:\", p.getAlpha())"
   ]
  },
  {
   "cell_type": "code",
   "execution_count": 2,
   "metadata": {},
   "outputs": [
    {
     "name": "stdout",
     "output_type": "stream",
     "text": [
      "\n",
      "Objective function:\n",
      "20 + math.e - 20 * math.exp(-(1/5) * math.sqrt((1/5) * (x1 ** 2 + x2 ** 2 + x3 ** 2 + x4 ** 2 + x5 ** 2))) - math.exp((1/5) * (math.cos(2 * math.pi * x1) + math.cos(2 * math.pi * x2) +math.cos(2 * math.pi * x3) +math.cos(2 * math.pi * x4) +math.cos(2 * math.pi * x5)))\n",
      "Search space:\n",
      " x1: (-30.0, 30.0)\n",
      " x2: (-30.0, 30.0)\n",
      " x3: (-30.0, 30.0)\n",
      " x4: (-30.0, 30.0)\n",
      " x5: (-30.0, 30.0)\n",
      "\n",
      "Search algorithm: Gradient descent\n",
      "\n",
      "Alpha rate: 0.01\n",
      "\n",
      "Solution found:\n",
      "(16.999, -21.999, 15.999, 23.999, -0.0)\n",
      "Minimum value: 19.444\n",
      "\n",
      "Total number of evaluations: 1,189\n"
     ]
    }
   ],
   "source": [
    "main() # Ackley.txt"
   ]
  },
  {
   "cell_type": "code",
   "execution_count": 3,
   "metadata": {},
   "outputs": [
    {
     "name": "stdout",
     "output_type": "stream",
     "text": [
      "\n",
      "Objective function:\n",
      "(x1 - 2) ** 2 +5 * (x2 - 5) ** 2 + 8 * (x3 + 8) ** 2 + 3 * (x4 + 1) ** 2 + 6 * (x5 - 7) ** 2\n",
      "Search space:\n",
      " x1: (-30.0, 30.0)\n",
      " x2: (-30.0, 30.0)\n",
      " x3: (-30.0, 30.0)\n",
      " x4: (-30.0, 30.0)\n",
      " x5: (-30.0, 30.0)\n",
      "\n",
      "Search algorithm: Gradient descent\n",
      "\n",
      "Alpha rate: 0.01\n",
      "\n",
      "Solution found:\n",
      "(2.0, 5.0, -8.0, -1.0, 7.0)\n",
      "Minimum value: 0.000\n",
      "\n",
      "Total number of evaluations: 18,910\n"
     ]
    }
   ],
   "source": [
    "main() # Convex.txt"
   ]
  },
  {
   "cell_type": "code",
   "execution_count": 4,
   "metadata": {},
   "outputs": [
    {
     "name": "stdout",
     "output_type": "stream",
     "text": [
      "\n",
      "Objective function:\n",
      "1 + (x1 ** 2 + x2 ** 2 + x3 ** 2+ x4 ** 2 + x5 ** 2) / 4000 - math.cos(x1) * math.cos(x2 / math.sqrt(2)) * math.cos(x3 / math.sqrt(3)) * math.cos(x4 / math.sqrt(4)) * math.cos(x5 / math.sqrt(5))\n",
      "Search space:\n",
      " x1: (-30.0, 30.0)\n",
      " x2: (-30.0, 30.0)\n",
      " x3: (-30.0, 30.0)\n",
      " x4: (-30.0, 30.0)\n",
      " x5: (-30.0, 30.0)\n",
      "\n",
      "Search algorithm: Gradient descent\n",
      "\n",
      "Alpha rate: 0.01\n",
      "\n",
      "Solution found:\n",
      "(-6.28, -17.754, 27.166, -18.812, 14.015)\n",
      "Minimum value: 0.411\n",
      "\n",
      "Total number of evaluations: 70,049\n"
     ]
    }
   ],
   "source": [
    "main() # Griewank.txt"
   ]
  }
 ],
 "metadata": {
  "kernelspec": {
   "display_name": "Python 3",
   "language": "python",
   "name": "python3"
  },
  "language_info": {
   "codemirror_mode": {
    "name": "ipython",
    "version": 3
   },
   "file_extension": ".py",
   "mimetype": "text/x-python",
   "name": "python",
   "nbconvert_exporter": "python",
   "pygments_lexer": "ipython3",
   "version": "3.10.10"
  }
 },
 "nbformat": 4,
 "nbformat_minor": 2
}
