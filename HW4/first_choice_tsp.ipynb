{
 "cells": [
  {
   "cell_type": "code",
   "execution_count": 1,
   "metadata": {},
   "outputs": [],
   "source": [
    "#first_choice(tsp)\n",
    "\n",
    "from problem import Problem, Tsp\n",
    "\n",
    "LIMIT_STUCK = 100 # Max number of evaluations enduring no improvement\n",
    "\n",
    "def main():\n",
    "    p = Tsp()\n",
    "    p.createProblem()\n",
    "    firstChoice(p)\n",
    "    p.describeProblem()\n",
    "    displaySetting()\n",
    "    p.displayResult()\n",
    "    \n",
    "def firstChoice(p):\n",
    "    current = p.randomInit()   # 'current' is a list of city ids\n",
    "    valueC = p.evaluate(current)\n",
    "    i = 0\n",
    "    while i < LIMIT_STUCK:\n",
    "        successor = p.randomMutant(current)\n",
    "        valueS = p.evaluate(successor)\n",
    "        if valueS < valueC:\n",
    "            current = successor\n",
    "            valueC = valueS\n",
    "            i = 0              # Reset stuck counter\n",
    "        else:\n",
    "            i += 1\n",
    "    p.storeResult(current, valueC)\n",
    "\n",
    "def displaySetting():\n",
    "    print()\n",
    "    print(\"Search algorithm: First-Choice Hill Climbing\")\n",
    "    print(\"Max evaluations with no improvement: {0:,} iterations\".format(LIMIT_STUCK))\n"
   ]
  },
  {
   "cell_type": "code",
   "execution_count": 2,
   "metadata": {},
   "outputs": [
    {
     "name": "stdout",
     "output_type": "stream",
     "text": [
      "\n",
      "Number of cities: 30\n",
      "City locations:\n",
      "     (8, 31)    (54, 97)    (50, 50)    (65, 16)    (70, 47)\n",
      "   (25, 100)    (55, 74)    (77, 87)     (6, 46)    (70, 78)\n",
      "    (13, 38)   (100, 32)    (26, 35)    (55, 16)    (26, 77)\n",
      "    (17, 67)    (40, 36)    (38, 27)     (33, 2)     (48, 9)\n",
      "    (62, 20)    (17, 92)     (30, 2)    (80, 75)    (32, 36)\n",
      "    (43, 79)    (57, 49)    (18, 24)    (96, 76)    (81, 39)\n",
      "\n",
      "Search algorithm: First-Choice Hill Climbing\n",
      "Max evaluations with no improvement: 100 iterations\n",
      "\n",
      "Best order of visits:\n",
      "    1   25   14   21    5   15    8    0   10   12\n",
      "   24   16   17   27   22   18   19    3   13   20\n",
      "   29   11    4   26    2    6    9   23   28    7\n",
      "\n",
      "Minimum tour cost: 476\n",
      "\n",
      "Total number of evaluations: 754\n"
     ]
    }
   ],
   "source": [
    "main() # tsp30.txt"
   ]
  },
  {
   "cell_type": "code",
   "execution_count": 4,
   "metadata": {},
   "outputs": [
    {
     "name": "stdout",
     "output_type": "stream",
     "text": [
      "\n",
      "Number of cities: 50\n",
      "City locations:\n",
      "    (96, 22)    (56, 12)    (19, 24)    (83, 58)     (62, 5)\n",
      "    (79, 31)      (1, 0)    (29, 71)    (17, 89)    (43, 66)\n",
      "    (82, 74)    (52, 35)    (84, 92)    (93, 45)    (41, 24)\n",
      "    (36, 83)    (82, 35)    (89, 71)    (93, 89)    (67, 10)\n",
      "    (71, 82)    (68, 50)    (84, 81)    (74, 94)    (53, 13)\n",
      "    (81, 31)    (17, 92)    (99, 82)    (25, 63)      (0, 2)\n",
      "    (21, 83)    (70, 64)     (79, 6)    (31, 53)    (90, 50)\n",
      "    (48, 14)    (41, 26)    (80, 56)    (49, 51)    (19, 38)\n",
      "      (2, 0)    (29, 63)    (18, 59)    (10, 44)     (49, 7)\n",
      "     (37, 9)    (19, 14)    (90, 85)    (100, 5)    (34, 55)\n",
      "\n",
      "Search algorithm: First-Choice Hill Climbing\n",
      "Max evaluations with no improvement: 100 iterations\n",
      "\n",
      "Best order of visits:\n",
      "   46   43   36   11   35   44   19    5   25    0\n",
      "   16   34    3   13   21   31   20   17   10   18\n",
      "   27   12   47   22   23   37   48   32    4   24\n",
      "    1   14   45    2   29    6   40   39   42   15\n",
      "   30    7   28   49   38   41   33    9   26    8\n",
      "\n",
      "Minimum tour cost: 886\n",
      "\n",
      "Total number of evaluations: 934\n"
     ]
    }
   ],
   "source": [
    "main() # tsp50.txt"
   ]
  },
  {
   "cell_type": "code",
   "execution_count": 5,
   "metadata": {},
   "outputs": [
    {
     "name": "stdout",
     "output_type": "stream",
     "text": [
      "\n",
      "Number of cities: 100\n",
      "City locations:\n",
      "    (94, 71)    (75, 60)    (30, 87)    (98, 37)    (66, 39)\n",
      "     (80, 4)    (28, 75)    (45, 63)     (28, 1)    (21, 25)\n",
      "    (66, 95)    (63, 60)    (66, 82)    (50, 97)    (95, 29)\n",
      "    (23, 97)    (32, 35)     (3, 26)    (85, 67)    (20, 36)\n",
      "    (29, 61)    (86, 31)     (13, 9)     (39, 3)    (77, 41)\n",
      "    (54, 76)    (80, 46)    (20, 63)    (39, 89)    (51, 49)\n",
      "    (83, 38)    (34, 72)     (6, 66)    (52, 41)    (99, 64)\n",
      "     (3, 64)     (6, 72)     (70, 9)    (25, 57)    (32, 33)\n",
      "    (48, 68)    (73, 99)    (32, 75)     (29, 5)    (74, 30)\n",
      "    (32, 80)     (96, 7)     (37, 7)     (7, 70)     (0, 94)\n",
      "    (33, 10)    (84, 61)    (18, 29)    (71, 81)    (82, 76)\n",
      "    (68, 74)    (56, 53)    (80, 41)    (21, 52)    (12, 64)\n",
      "    (47, 46)    (55, 20)    (40, 90)    (81, 75)    (83, 23)\n",
      "    (35, 10)    (18, 84)    (46, 82)    (47, 74)    (25, 28)\n",
      "    (69, 76)    (77, 28)     (57, 0)    (24, 83)     (5, 65)\n",
      "    (83, 29)    (94, 93)     (0, 76)    (70, 32)    (32, 11)\n",
      "    (27, 25)    (98, 22)    (67, 39)    (80, 37)    (77, 10)\n",
      "    (61, 23)    (62, 71)    (45, 32)     (3, 56)    (58, 96)\n",
      "    (14, 70)     (0, 35)    (95, 68)    (79, 47)    (30, 79)\n",
      "     (41, 8)    (64, 33)    (28, 91)    (18, 21)    (42, 57)\n",
      "\n",
      "Search algorithm: First-Choice Hill Climbing\n",
      "Max evaluations with no improvement: 100 iterations\n",
      "\n",
      "Best order of visits:\n",
      "   13   15   49   77   36   48   32   74   73   45\n",
      "   94   42   28   67   68   70   86   25   11   93\n",
      "   76   41   53   12   10   40    7   20   27   66\n",
      "    2   97   62   89   55   26   57   51   18   54\n",
      "   63    1    0   92   34    3   14   75   37   72\n",
      "    5   84   46   81   21   44   64   71   83   30\n",
      "   24   78   96   60   29   99   61   85   80   69\n",
      "    9   98   91   52   17   19   38   31   88   59\n",
      "   90    6   35   58   16   87    4   82   56   33\n",
      "   39   95   65   23   47   79    8   22   43   50\n",
      "\n",
      "Minimum tour cost: 1,431\n",
      "\n",
      "Total number of evaluations: 2,386\n"
     ]
    }
   ],
   "source": [
    "main() # tsp100.txt"
   ]
  }
 ],
 "metadata": {
  "kernelspec": {
   "display_name": "Python 3",
   "language": "python",
   "name": "python3"
  },
  "language_info": {
   "codemirror_mode": {
    "name": "ipython",
    "version": 3
   },
   "file_extension": ".py",
   "mimetype": "text/x-python",
   "name": "python",
   "nbconvert_exporter": "python",
   "pygments_lexer": "ipython3",
   "version": "3.10.10"
  }
 },
 "nbformat": 4,
 "nbformat_minor": 2
}
